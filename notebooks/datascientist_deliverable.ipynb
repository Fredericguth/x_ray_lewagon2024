{
 "cells": [
  {
   "cell_type": "code",
   "execution_count": 1,
   "metadata": {},
   "outputs": [
    {
     "name": "stderr",
     "output_type": "stream",
     "text": [
      "2024-06-07 09:23:12.226613: I tensorflow/core/platform/cpu_feature_guard.cc:193] This TensorFlow binary is optimized with oneAPI Deep Neural Network Library (oneDNN) to use the following CPU instructions in performance-critical operations:  AVX2 AVX512F AVX512_VNNI FMA\n",
      "To enable them in other operations, rebuild TensorFlow with the appropriate compiler flags.\n",
      "2024-06-07 09:23:13.229635: I tensorflow/core/util/util.cc:169] oneDNN custom operations are on. You may see slightly different numerical results due to floating-point round-off errors from different computation orders. To turn them off, set the environment variable `TF_ENABLE_ONEDNN_OPTS=0`.\n",
      "2024-06-07 09:23:13.494666: W tensorflow/stream_executor/platform/default/dso_loader.cc:64] Could not load dynamic library 'libcudart.so.11.0'; dlerror: libcudart.so.11.0: cannot open shared object file: No such file or directory\n",
      "2024-06-07 09:23:13.494704: I tensorflow/stream_executor/cuda/cudart_stub.cc:29] Ignore above cudart dlerror if you do not have a GPU set up on your machine.\n",
      "2024-06-07 09:23:13.693725: E tensorflow/stream_executor/cuda/cuda_blas.cc:2981] Unable to register cuBLAS factory: Attempting to register factory for plugin cuBLAS when one has already been registered\n",
      "2024-06-07 09:23:17.832684: W tensorflow/stream_executor/platform/default/dso_loader.cc:64] Could not load dynamic library 'libnvinfer.so.7'; dlerror: libnvinfer.so.7: cannot open shared object file: No such file or directory\n",
      "2024-06-07 09:23:17.833082: W tensorflow/stream_executor/platform/default/dso_loader.cc:64] Could not load dynamic library 'libnvinfer_plugin.so.7'; dlerror: libnvinfer_plugin.so.7: cannot open shared object file: No such file or directory\n",
      "2024-06-07 09:23:17.833100: W tensorflow/compiler/tf2tensorrt/utils/py_utils.cc:38] TF-TRT Warning: Cannot dlopen some TensorRT libraries. If you would like to use Nvidia GPU with TensorRT, please make sure the missing libraries mentioned above are installed properly.\n"
     ]
    }
   ],
   "source": [
    "# %%\n",
    "import os\n",
    "import shap\n",
    "import getpass\n",
    "import numpy as np\n",
    "import pandas as pd\n",
    "import tensorflow as tf\n",
    "import matplotlib.pyplot as plt\n",
    "\n",
    "from tensorflow import keras\n",
    "from datetime import timedelta, datetime\n",
    "from tensorflow.keras.preprocessing import image\n",
    "from sklearn.metrics import accuracy_score, precision_score, recall_score, f1_score\n",
    "from keras import backend as K, losses, optimizers, layers, models, utils, callbacks\n"
   ]
  },
  {
   "cell_type": "markdown",
   "metadata": {},
   "source": [
    "# Make sure to update the paths in this notebook\n",
    "This cell below and one of the last cells in Save Preformance needs your local path to your data"
   ]
  },
  {
   "cell_type": "markdown",
   "metadata": {},
   "source": [
    "## Load Data 🩻"
   ]
  },
  {
   "cell_type": "code",
   "execution_count": 2,
   "metadata": {},
   "outputs": [
    {
     "name": "stdout",
     "output_type": "stream",
     "text": [
      "Found 9391 files belonging to 11 classes.\n",
      "Using 8452 files for training.\n"
     ]
    },
    {
     "name": "stderr",
     "output_type": "stream",
     "text": [
      "2024-06-07 09:23:22.740448: W tensorflow/stream_executor/platform/default/dso_loader.cc:64] Could not load dynamic library 'libcuda.so.1'; dlerror: libcuda.so.1: cannot open shared object file: No such file or directory\n",
      "2024-06-07 09:23:22.741312: W tensorflow/stream_executor/cuda/cuda_driver.cc:263] failed call to cuInit: UNKNOWN ERROR (303)\n",
      "2024-06-07 09:23:22.741365: I tensorflow/stream_executor/cuda/cuda_diagnostics.cc:156] kernel driver does not appear to be running on this host (Chai-ThinkPad): /proc/driver/nvidia/version does not exist\n",
      "2024-06-07 09:23:22.743180: I tensorflow/core/platform/cpu_feature_guard.cc:193] This TensorFlow binary is optimized with oneAPI Deep Neural Network Library (oneDNN) to use the following CPU instructions in performance-critical operations:  AVX2 AVX512F AVX512_VNNI FMA\n",
      "To enable them in other operations, rebuild TensorFlow with the appropriate compiler flags.\n"
     ]
    },
    {
     "name": "stdout",
     "output_type": "stream",
     "text": [
      "Found 9391 files belonging to 11 classes.\n",
      "Using 939 files for validation.\n"
     ]
    }
   ],
   "source": [
    "# %%\n",
    "# Update this path\n",
    "data_dir = \"/home/hrcprasad/code/hrcprasad/x_ray_lewagon2024/data/Bone Break Classification\"\n",
    "\n",
    "# Load the train data\n",
    "train_data = utils.image_dataset_from_directory(\n",
    "    data_dir,\n",
    "    labels=\"inferred\",\n",
    "    label_mode=\"int\",\n",
    "    validation_split=0.1,\n",
    "    subset=\"training\",\n",
    "    shuffle=True,\n",
    "    color_mode=\"rgb\",\n",
    "    image_size=(256, 256),\n",
    "    batch_size=64,\n",
    "    seed=40\n",
    ")\n",
    "\n",
    "# Load the test data\n",
    "validation_data = utils.image_dataset_from_directory(\n",
    "    data_dir,\n",
    "    labels=\"inferred\",\n",
    "    label_mode=\"int\",\n",
    "    validation_split=0.1,\n",
    "    subset=\"validation\",\n",
    "    color_mode=\"rgb\",\n",
    "    image_size=(256, 256),\n",
    "    batch_size=64,\n",
    "    seed=42\n",
    ")"
   ]
  },
  {
   "cell_type": "markdown",
   "metadata": {},
   "source": [
    "## Prepresses Data 🔧"
   ]
  },
  {
   "cell_type": "code",
   "execution_count": 3,
   "metadata": {},
   "outputs": [
    {
     "name": "stdout",
     "output_type": "stream",
     "text": [
      "Class names: ['Avulsion fracture', 'Comminuted fracture', 'Fracture Dislocation', 'Greenstick fracture', 'Hairline Fracture', 'Impacted fracture', 'Longitudinal fracture', 'Oblique fracture', 'Pathological fracture', 'Spiral Fracture', 'non_fractured']\n"
     ]
    }
   ],
   "source": [
    "# Inspect class names\n",
    "class_names = train_data.class_names\n",
    "print(\"Class names:\", class_names)"
   ]
  },
  {
   "cell_type": "code",
   "execution_count": 4,
   "metadata": {},
   "outputs": [],
   "source": [
    "# Data preprocessing\n",
    "def preprocess(img):\n",
    "    img = tf.cast(img, \"float32\") / 255.0\n",
    "    return img\n",
    "\n",
    "train_dataset = train_data.map(lambda x, y: (preprocess(x), y))\n",
    "val_dataset = validation_data.map(lambda x, y: (preprocess(x), y))"
   ]
  },
  {
   "cell_type": "code",
   "execution_count": 5,
   "metadata": {},
   "outputs": [],
   "source": [
    "# Get train data and labels\n",
    "x_train = []\n",
    "y_train = []\n",
    "\n",
    "for images, labels in train_dataset:\n",
    "    # Append train data to x_train\n",
    "    x_train.append(images.numpy())\n",
    "\n",
    "    # Append labels to y_train\n",
    "    y_train.append(labels.numpy())\n",
    "\n",
    "# Concatenate all the batches to get the full list\n",
    "x_train = np.concatenate(x_train, axis=0)\n",
    "y_train = np.concatenate(y_train, axis=0)"
   ]
  },
  {
   "cell_type": "code",
   "execution_count": 6,
   "metadata": {},
   "outputs": [],
   "source": [
    "# Get val data and labels\n",
    "x_val = []\n",
    "y_val = []\n",
    "\n",
    "for images, labels in val_dataset:\n",
    "    # Append train data to x_train\n",
    "    x_val.append(images.numpy())\n",
    "\n",
    "    # Append labels to y_train\n",
    "    y_val.append(labels.numpy())\n",
    "\n",
    "# Concatenate all the batches to get the full list\n",
    "x_val = np.concatenate(x_val, axis=0)\n",
    "y_val = np.concatenate(y_val, axis=0)"
   ]
  },
  {
   "cell_type": "code",
   "execution_count": 7,
   "metadata": {},
   "outputs": [],
   "source": [
    "# One-hot encode the train, val data\n",
    "NUM_CLASSES = len(class_names)\n",
    "\n",
    "y_train = tf.keras.utils.to_categorical(y_train, NUM_CLASSES)\n",
    "y_val = tf.keras.utils.to_categorical(y_val, NUM_CLASSES)"
   ]
  },
  {
   "cell_type": "markdown",
   "metadata": {},
   "source": [
    "## Initialize Model 🤌\n",
    "\n"
   ]
  },
  {
   "cell_type": "code",
   "execution_count": 8,
   "metadata": {},
   "outputs": [
    {
     "name": "stdout",
     "output_type": "stream",
     "text": [
      "Model: \"sequential\"\n",
      "_________________________________________________________________\n",
      " Layer (type)                Output Shape              Param #   \n",
      "=================================================================\n",
      " conv2d (Conv2D)             (None, 128, 128, 32)      896       \n",
      "                                                                 \n",
      " batch_normalization (BatchN  (None, 128, 128, 32)     128       \n",
      " ormalization)                                                   \n",
      "                                                                 \n",
      " leaky_re_lu (LeakyReLU)     (None, 128, 128, 32)      0         \n",
      "                                                                 \n",
      " dropout (Dropout)           (None, 128, 128, 32)      0         \n",
      "                                                                 \n",
      " conv2d_1 (Conv2D)           (None, 64, 64, 64)        18496     \n",
      "                                                                 \n",
      " batch_normalization_1 (Batc  (None, 64, 64, 64)       256       \n",
      " hNormalization)                                                 \n",
      "                                                                 \n",
      " leaky_re_lu_1 (LeakyReLU)   (None, 64, 64, 64)        0         \n",
      "                                                                 \n",
      " dropout_1 (Dropout)         (None, 64, 64, 64)        0         \n",
      "                                                                 \n",
      " conv2d_2 (Conv2D)           (None, 32, 32, 128)       73856     \n",
      "                                                                 \n",
      " batch_normalization_2 (Batc  (None, 32, 32, 128)      512       \n",
      " hNormalization)                                                 \n",
      "                                                                 \n",
      " leaky_re_lu_2 (LeakyReLU)   (None, 32, 32, 128)       0         \n",
      "                                                                 \n",
      " dropout_2 (Dropout)         (None, 32, 32, 128)       0         \n",
      "                                                                 \n",
      " conv2d_3 (Conv2D)           (None, 16, 16, 256)       295168    \n",
      "                                                                 \n",
      " batch_normalization_3 (Batc  (None, 16, 16, 256)      1024      \n",
      " hNormalization)                                                 \n",
      "                                                                 \n",
      " leaky_re_lu_3 (LeakyReLU)   (None, 16, 16, 256)       0         \n",
      "                                                                 \n",
      " dropout_3 (Dropout)         (None, 16, 16, 256)       0         \n",
      "                                                                 \n",
      " flatten (Flatten)           (None, 65536)             0         \n",
      "                                                                 \n",
      " dense (Dense)               (None, 100)               6553700   \n",
      "                                                                 \n",
      " batch_normalization_4 (Batc  (None, 100)              400       \n",
      " hNormalization)                                                 \n",
      "                                                                 \n",
      " leaky_re_lu_4 (LeakyReLU)   (None, 100)               0         \n",
      "                                                                 \n",
      " dropout_4 (Dropout)         (None, 100)               0         \n",
      "                                                                 \n",
      " dense_1 (Dense)             (None, 11)                1111      \n",
      "                                                                 \n",
      "=================================================================\n",
      "Total params: 6,945,547\n",
      "Trainable params: 6,944,387\n",
      "Non-trainable params: 1,160\n",
      "_________________________________________________________________\n"
     ]
    }
   ],
   "source": [
    "# %%\n",
    "def initialize_model(x_train):\n",
    "    model = models.Sequential()\n",
    "\n",
    "    model.add(layers.Conv2D(filters=32, kernel_size=(3,3), strides=2, padding=\"same\", input_shape=(x_train.shape[1], x_train.shape[2], x_train.shape[3])))\n",
    "    model.add(layers.BatchNormalization(momentum=0.9))\n",
    "    model.add(layers.LeakyReLU(0.2))\n",
    "    model.add(layers.Dropout(rate=0.2))\n",
    "\n",
    "    model.add(layers.Conv2D(64, 3, strides=2, padding=\"same\"))\n",
    "    model.add(layers.BatchNormalization(momentum=0.9))\n",
    "    model.add(layers.LeakyReLU(0.2))\n",
    "    model.add(layers.Dropout(rate=0.2))\n",
    "\n",
    "    model.add(layers.Conv2D(128, 3, strides=2, padding=\"same\"))\n",
    "    model.add(layers.BatchNormalization(momentum=0.9))\n",
    "    model.add(layers.LeakyReLU(0.2))\n",
    "    model.add(layers.Dropout(rate=0.2))\n",
    "\n",
    "    model.add(layers.Conv2D(256, 3, strides=2, padding=\"same\"))\n",
    "    model.add(layers.BatchNormalization(momentum=0.9))\n",
    "    model.add(layers.LeakyReLU(0.2))\n",
    "    model.add(layers.Dropout(rate=0.2))\n",
    "\n",
    "    model.add(layers.Flatten())\n",
    "\n",
    "    model.add(layers.Dense(units=100))\n",
    "    model.add(layers.BatchNormalization(momentum=0.9))\n",
    "    model.add(layers.LeakyReLU(0.2))\n",
    "    model.add(layers.Dropout(rate=0.2))\n",
    "\n",
    "    model.add(layers.Dense(units=NUM_CLASSES, activation=\"softmax\"))\n",
    "\n",
    "    opt = optimizers.Adam(learning_rate=0.0005)\n",
    "    model.compile(loss=\"categorical_crossentropy\", optimizer=opt, metrics=[\"accuracy\"])\n",
    "\n",
    "    model.summary()\n",
    "\n",
    "    return model\n",
    "\n",
    "model = initialize_model(x_train)\n"
   ]
  },
  {
   "cell_type": "markdown",
   "metadata": {},
   "source": [
    "## Train the Model 💪 "
   ]
  },
  {
   "cell_type": "code",
   "execution_count": 9,
   "metadata": {},
   "outputs": [],
   "source": [
    "# Save checkpoints to monitor best performing models\n",
    "model_checkpoint_callback = callbacks.ModelCheckpoint(\n",
    "    filepath=\"./checkpoint\",\n",
    "    save_weights_only=False,\n",
    "    save_freq=\"epoch\",\n",
    "    monitor=\"loss\",\n",
    "    mode=\"min\",\n",
    "    save_best_only=True,\n",
    "    verbose=0\n",
    ")\n",
    "\n",
    "tensorboard_callback = callbacks.TensorBoard(log_dir=\"./logs\")\n"
   ]
  },
  {
   "cell_type": "code",
   "execution_count": 31,
   "metadata": {},
   "outputs": [
    {
     "name": "stdout",
     "output_type": "stream",
     "text": [
      "Epoch 1/10\n",
      "185/185 [==============================] - 92s 495ms/step - loss: 0.1498 - accuracy: 0.9611 - val_loss: 0.0592 - val_accuracy: 0.9921\n",
      "Epoch 2/10\n",
      "185/185 [==============================] - ETA: 0s - loss: 0.1085 - accuracy: 0.9750"
     ]
    },
    {
     "name": "stderr",
     "output_type": "stream",
     "text": [
      "WARNING:absl:Found untraced functions such as _jit_compiled_convolution_op, _jit_compiled_convolution_op, _jit_compiled_convolution_op, _jit_compiled_convolution_op while saving (showing 4 of 4). These functions will not be directly callable after loading.\n"
     ]
    },
    {
     "name": "stdout",
     "output_type": "stream",
     "text": [
      "INFO:tensorflow:Assets written to: ./checkpoint/assets\n"
     ]
    },
    {
     "name": "stderr",
     "output_type": "stream",
     "text": [
      "INFO:tensorflow:Assets written to: ./checkpoint/assets\n"
     ]
    },
    {
     "name": "stdout",
     "output_type": "stream",
     "text": [
      "185/185 [==============================] - 81s 440ms/step - loss: 0.1085 - accuracy: 0.9750 - val_loss: 0.0783 - val_accuracy: 0.9838\n",
      "Epoch 3/10\n",
      "185/185 [==============================] - ETA: 0s - loss: 0.0871 - accuracy: 0.9801"
     ]
    },
    {
     "name": "stderr",
     "output_type": "stream",
     "text": [
      "WARNING:absl:Found untraced functions such as _jit_compiled_convolution_op, _jit_compiled_convolution_op, _jit_compiled_convolution_op, _jit_compiled_convolution_op while saving (showing 4 of 4). These functions will not be directly callable after loading.\n"
     ]
    },
    {
     "name": "stdout",
     "output_type": "stream",
     "text": [
      "INFO:tensorflow:Assets written to: ./checkpoint/assets\n"
     ]
    },
    {
     "name": "stderr",
     "output_type": "stream",
     "text": [
      "INFO:tensorflow:Assets written to: ./checkpoint/assets\n"
     ]
    },
    {
     "name": "stdout",
     "output_type": "stream",
     "text": [
      "185/185 [==============================] - 81s 436ms/step - loss: 0.0871 - accuracy: 0.9801 - val_loss: 0.0950 - val_accuracy: 0.9752\n",
      "Epoch 4/10\n",
      "185/185 [==============================] - ETA: 0s - loss: 0.0808 - accuracy: 0.9817"
     ]
    },
    {
     "name": "stderr",
     "output_type": "stream",
     "text": [
      "WARNING:absl:Found untraced functions such as _jit_compiled_convolution_op, _jit_compiled_convolution_op, _jit_compiled_convolution_op, _jit_compiled_convolution_op while saving (showing 4 of 4). These functions will not be directly callable after loading.\n"
     ]
    },
    {
     "name": "stdout",
     "output_type": "stream",
     "text": [
      "INFO:tensorflow:Assets written to: ./checkpoint/assets\n"
     ]
    },
    {
     "name": "stderr",
     "output_type": "stream",
     "text": [
      "INFO:tensorflow:Assets written to: ./checkpoint/assets\n"
     ]
    },
    {
     "name": "stdout",
     "output_type": "stream",
     "text": [
      "185/185 [==============================] - 84s 455ms/step - loss: 0.0808 - accuracy: 0.9817 - val_loss: 0.1172 - val_accuracy: 0.9756\n",
      "Epoch 5/10\n",
      "185/185 [==============================] - ETA: 0s - loss: 0.0634 - accuracy: 0.9870"
     ]
    },
    {
     "name": "stderr",
     "output_type": "stream",
     "text": [
      "WARNING:absl:Found untraced functions such as _jit_compiled_convolution_op, _jit_compiled_convolution_op, _jit_compiled_convolution_op, _jit_compiled_convolution_op while saving (showing 4 of 4). These functions will not be directly callable after loading.\n"
     ]
    },
    {
     "name": "stdout",
     "output_type": "stream",
     "text": [
      "INFO:tensorflow:Assets written to: ./checkpoint/assets\n"
     ]
    },
    {
     "name": "stderr",
     "output_type": "stream",
     "text": [
      "INFO:tensorflow:Assets written to: ./checkpoint/assets\n"
     ]
    },
    {
     "name": "stdout",
     "output_type": "stream",
     "text": [
      "185/185 [==============================] - 88s 477ms/step - loss: 0.0634 - accuracy: 0.9870 - val_loss: 0.1086 - val_accuracy: 0.9708\n",
      "Epoch 6/10\n",
      "185/185 [==============================] - ETA: 0s - loss: 0.0545 - accuracy: 0.9872"
     ]
    },
    {
     "name": "stderr",
     "output_type": "stream",
     "text": [
      "WARNING:absl:Found untraced functions such as _jit_compiled_convolution_op, _jit_compiled_convolution_op, _jit_compiled_convolution_op, _jit_compiled_convolution_op while saving (showing 4 of 4). These functions will not be directly callable after loading.\n"
     ]
    },
    {
     "name": "stdout",
     "output_type": "stream",
     "text": [
      "INFO:tensorflow:Assets written to: ./checkpoint/assets\n"
     ]
    },
    {
     "name": "stderr",
     "output_type": "stream",
     "text": [
      "INFO:tensorflow:Assets written to: ./checkpoint/assets\n"
     ]
    },
    {
     "name": "stdout",
     "output_type": "stream",
     "text": [
      "185/185 [==============================] - 87s 472ms/step - loss: 0.0545 - accuracy: 0.9872 - val_loss: 0.1217 - val_accuracy: 0.9685\n",
      "Epoch 7/10\n",
      "185/185 [==============================] - 82s 444ms/step - loss: 0.0614 - accuracy: 0.9850 - val_loss: 0.1533 - val_accuracy: 0.9614\n",
      "Epoch 8/10\n",
      "185/185 [==============================] - 82s 442ms/step - loss: 0.0581 - accuracy: 0.9882 - val_loss: 0.1813 - val_accuracy: 0.9503\n",
      "Epoch 9/10\n",
      "185/185 [==============================] - 78s 422ms/step - loss: 0.0647 - accuracy: 0.9844 - val_loss: 0.2119 - val_accuracy: 0.9353\n",
      "Epoch 10/10\n",
      "185/185 [==============================] - 87s 469ms/step - loss: 0.0618 - accuracy: 0.9853 - val_loss: 0.2320 - val_accuracy: 0.9231\n"
     ]
    }
   ],
   "source": [
    "# Start timer\n",
    "start_train_time = datetime.now()\n",
    "\n",
    "epochs = 10\n",
    "batch_size = 32\n",
    "\n",
    "# Train model\n",
    "history = model.fit(\n",
    "    x_train,\n",
    "    y_train,\n",
    "    shuffle=True,\n",
    "    batch_size=batch_size,\n",
    "    epochs=epochs,\n",
    "    validation_split=0.3,\n",
    "    callbacks=[model_checkpoint_callback, tensorboard_callback]\n",
    ")\n",
    "\n",
    "# End timer\n",
    "end_train_time = datetime.now()\n",
    "train_time = (end_train_time - start_train_time).total_seconds()\n"
   ]
  },
  {
   "cell_type": "markdown",
   "metadata": {},
   "source": [
    "## Evaluate the Model 🕵️‍♂️"
   ]
  },
  {
   "cell_type": "code",
   "execution_count": 33,
   "metadata": {},
   "outputs": [
    {
     "name": "stdout",
     "output_type": "stream",
     "text": [
      "Train Loss:  [0.14978723227977753, 0.10847871750593185, 0.0870923101902008, 0.08079493790864944, 0.0633656308054924, 0.05453657731413841, 0.06144791096448898, 0.058128662407398224, 0.06472976505756378, 0.06177589297294617]\n",
      "Train Accuracy:  [0.9611223936080933, 0.9749830961227417, 0.9800540804862976, 0.9817444086074829, 0.9869844317436218, 0.9871534705162048, 0.9849560260772705, 0.9881677031517029, 0.9844489693641663, 0.9852941036224365]\n",
      "Val Loss:  [0.05915402993559837, 0.07831665128469467, 0.09500595927238464, 0.11720728129148483, 0.10859031230211258, 0.12170849740505219, 0.1532553881406784, 0.18131649494171143, 0.21191179752349854, 0.2320127934217453]\n",
      "Val Accuracy:  [0.9611223936080933, 0.9749830961227417, 0.9800540804862976, 0.9817444086074829, 0.9869844317436218, 0.9871534705162048, 0.9849560260772705, 0.9881677031517029, 0.9844489693641663, 0.9852941036224365]\n"
     ]
    }
   ],
   "source": [
    "# Get Loss and Accuracy metrics\n",
    "train_loss = history.history[\"loss\"]\n",
    "train_accuracy = history.history[\"accuracy\"]\n",
    "val_loss = history.history[\"val_loss\"]\n",
    "val_accuracy = history.history[\"accuracy\"]\n",
    "\n",
    "print('Train Loss: ', train_loss)\n",
    "print('Train Accuracy: ', train_accuracy)\n",
    "print('Val Loss: ', val_loss)\n",
    "print('Val Accuracy: ', val_accuracy)"
   ]
  },
  {
   "cell_type": "code",
   "execution_count": 34,
   "metadata": {},
   "outputs": [
    {
     "name": "stdout",
     "output_type": "stream",
     "text": [
      "30/30 [==============================] - 2s 79ms/step - loss: 0.2769 - accuracy: 0.9393\n"
     ]
    }
   ],
   "source": [
    "# Start timer\n",
    "start_eval_time = datetime.now()\n",
    "\n",
    "# Evaluate model\n",
    "model.evaluate(x_val, y_val)\n",
    "\n",
    "# End timer\n",
    "end_eval_time = datetime.now()\n",
    "eval_time = (end_eval_time - start_eval_time).total_seconds()"
   ]
  },
  {
   "cell_type": "markdown",
   "metadata": {},
   "source": [
    "## Plote Learning Curve 📊"
   ]
  },
  {
   "cell_type": "code",
   "execution_count": 35,
   "metadata": {},
   "outputs": [
    {
     "data": {
      "image/png": "[encoded data removed]",
      "text/plain": [
       "<Figure size 1200x600 with 2 Axes>"
      ]
     },
     "metadata": {},
     "output_type": "display_data"
    }
   ],
   "source": [
    "# Plot learning curve\n",
    "epochs_range = range(1, epochs + 1)\n",
    "plt.figure(figsize=(12, 6))\n",
    "\n",
    "plt.subplot(1, 2, 1)\n",
    "plt.plot(epochs_range, train_loss, 'r-', label=\"Training Loss\")\n",
    "plt.plot(epochs_range, val_loss, 'b-', label=\"Validation Loss\")\n",
    "plt.title(\"Training and Validation Loss\")\n",
    "plt.xlabel(\"Epochs\")\n",
    "plt.ylabel(\"Loss\")\n",
    "plt.legend()\n",
    "\n",
    "plt.subplot(1, 2, 2)\n",
    "plt.plot(epochs_range, train_accuracy, 'r-', label=\"Training Accuracy\")\n",
    "plt.plot(epochs_range, val_accuracy, 'b-', label=\"Validation Accuracy\")\n",
    "plt.title(\"Training and Validation Accuracy\")\n",
    "plt.xlabel(\"Epochs\")\n",
    "plt.ylabel(\"Accuracy\")\n",
    "plt.legend()\n",
    "\n",
    "plt.tight_layout()\n",
    "plt.show()\n"
   ]
  },
  {
   "cell_type": "markdown",
   "metadata": {},
   "source": [
    "## Calculate Preformance 🔍"
   ]
  },
  {
   "cell_type": "code",
   "execution_count": 36,
   "metadata": {},
   "outputs": [
    {
     "name": "stdout",
     "output_type": "stream",
     "text": [
      "30/30 [==============================] - 3s 89ms/step\n"
     ]
    }
   ],
   "source": [
    "# Start prediction timer\n",
    "start_pred_time = datetime.now()\n",
    "\n",
    "# Get predictions of the model\n",
    "preds = model.predict(x_val)\n",
    "CLASSES = np.array(class_names)\n",
    "predictions = CLASSES[np.argmax(preds, axis=-1)]\n",
    "y_val_classes = CLASSES[np.argmax(y_val, axis=-1)]\n",
    "\n",
    "# Ender prediction timer\n",
    "end_pred_time = datetime.now()\n",
    "pred_time = (end_pred_time - start_pred_time).total_seconds()"
   ]
  },
  {
   "cell_type": "code",
   "execution_count": 37,
   "metadata": {},
   "outputs": [
    {
     "name": "stdout",
     "output_type": "stream",
     "text": [
      "Accuracy: 0.939297124600639\n",
      "Precision: 0.9391813827971387\n",
      "Recall: 0.939297124600639\n",
      "F1 Score: 0.9390920832314\n"
     ]
    }
   ],
   "source": [
    "# Calculate accuracy, precision, recall, f1\n",
    "accuracy = accuracy_score(predictions, y_val_classes)\n",
    "precision = precision_score(predictions, y_val_classes, average='weighted')\n",
    "recall = recall_score(predictions, y_val_classes, average='weighted')\n",
    "f1 = f1_score(predictions, y_val_classes, average='weighted')\n",
    "\n",
    "# Save the metrics to a file\n",
    "with open(\"metrics.txt\", \"w\") as file:\n",
    "    file.write(f\"{accuracy}\\n\")\n",
    "    file.write(f\"{precision}\\n\")\n",
    "    file.write(f\"{recall}\\n\")\n",
    "    file.write(f\"{f1}\\n\")\n",
    "\n",
    "# Optionally, print the metrics for quick reference\n",
    "print(\"Accuracy:\", accuracy)\n",
    "print(\"Precision:\", precision)\n",
    "print(\"Recall:\", recall)\n",
    "print(\"F1 Score:\", f1)"
   ]
  },
  {
   "cell_type": "markdown",
   "metadata": {},
   "source": [
    "## Save Preformance to CSV 📝"
   ]
  },
  {
   "cell_type": "code",
   "execution_count": 38,
   "metadata": {},
   "outputs": [],
   "source": [
    "def log_model_metrics(metrics_file, csv_file, model_name, train_time, eval_time, pred_one_time):\n",
    "\n",
    "    # Load metrics generated by train_eval.py\n",
    "    metrics_df = pd.read_csv(metrics_file, header=None, names=[\"value\"])\n",
    "    accuracy = float(metrics_df.iloc[0].value)\n",
    "    precision = float(metrics_df.iloc[1].value)\n",
    "    recall = float(metrics_df.iloc[2].value)\n",
    "    f1 = float(metrics_df.iloc[3].value)\n",
    "\n",
    "    # Log results to DataFrame\n",
    "    columns = [\"name\", \"model\", \"train_time\", \"test_time\", \"pred_one_time\", \"accuracy\", \"precision\", \"recall\", \"f1\"]\n",
    "    name = getpass.getuser()  # Get the username of the person running the script\n",
    "\n",
    "    # Create a DataFrame to hold the new data\n",
    "    data = {\n",
    "        \"name\": [name],\n",
    "        \"model\": [model_name],\n",
    "        \"train_time\": [train_time],\n",
    "        \"eval_time\": [eval_time],\n",
    "        \"pred_one_time\": [pred_one_time],\n",
    "        \"accuracy\": [accuracy],\n",
    "        \"precision\": [precision],\n",
    "        \"recall\": [recall],\n",
    "        \"f1\": [f1]\n",
    "    }\n",
    "    df_new = pd.DataFrame(data)\n",
    "\n",
    "    # Check if the file exists\n",
    "    if os.path.exists(csv_file):\n",
    "        # If the file exists, append the new data\n",
    "        df_existing = pd.read_csv(csv_file)\n",
    "        df_combined = pd.concat([df_existing, df_new], ignore_index=True)\n",
    "    else:\n",
    "        # If the file does not exist, the new data is the combined data\n",
    "        df_combined = df_new\n",
    "\n",
    "    # Save the combined data to the CSV file\n",
    "    df_combined.to_csv(csv_file, index=False)\n"
   ]
  },
  {
   "cell_type": "code",
   "execution_count": 39,
   "metadata": {},
   "outputs": [],
   "source": [
    "def preprocess_single_image(img_path, target_size=(256, 256)):\n",
    "    \"\"\"\n",
    "    Load and preprocess a single image\n",
    "    \"\"\"\n",
    "    img = image.load_img(img_path, target_size=target_size)\n",
    "    img_array = image.img_to_array(img)\n",
    "    img_array = np.expand_dims(img_array, axis=0)\n",
    "    img_array = img_array / 255.0  # Normalize if needed\n",
    "    return img_array"
   ]
  },
  {
   "cell_type": "code",
   "execution_count": 40,
   "metadata": {},
   "outputs": [],
   "source": [
    "def predict_single_image(model, img_array, class_names_dict):\n",
    "    \"\"\"\n",
    "    Make a prediction on a single image\n",
    "    \"\"\"\n",
    "    preds = model.predict(img_array)\n",
    "    predicted_class = np.argmax(preds, axis=-1)\n",
    "    class_name = class_names_dict[predicted_class[0]]\n",
    "    return class_name\n"
   ]
  },
  {
   "cell_type": "code",
   "execution_count": 41,
   "metadata": {},
   "outputs": [],
   "source": [
    "# Update this path to any single image\n",
    "img_path = \"/home/hrcprasad/code/hrcprasad/x_ray_lewagon2024/data/Bone Break Classification/Avulsion fracture/Train/94f6a-pclavulsion1a_png.rf.621b9fb0ecda5666f169e06b88d35b9e.jpg\"\n",
    "\n",
    "# Preprocess a single image\n",
    "img_array = preprocess_single_image(img_path)\n",
    "\n",
    "class_names_dict = {\n",
    "    0: 'Avulsion fracture',\n",
    "    1: 'Comminuted fracture',\n",
    "    2: 'Fracture Dislocation',\n",
    "    3: 'Greenstick fracture',\n",
    "    4: 'Hairline Fracture',\n",
    "    5: 'Impacted fracture',\n",
    "    6: 'Longitudinal fracture',\n",
    "    7: 'Oblique fracture',\n",
    "    8: 'Pathological fracture',\n",
    "    9: 'Spiral Fracture',\n",
    "    10: 'non_fractured'\n",
    "}"
   ]
  },
  {
   "cell_type": "markdown",
   "metadata": {},
   "source": [
    "Predict One Image"
   ]
  },
  {
   "cell_type": "code",
   "execution_count": 42,
   "metadata": {},
   "outputs": [
    {
     "name": "stdout",
     "output_type": "stream",
     "text": [
      "1/1 [==============================] - 0s 49ms/step\n",
      "Predicted class: Avulsion fracture\n"
     ]
    }
   ],
   "source": [
    "# Start single image prediction timer\n",
    "start_pred_one_time = datetime.now()\n",
    "\n",
    "# Predict one image\n",
    "predicted_class_name = predict_single_image(model, img_array, class_names_dict)\n",
    "print(\"Predicted class:\", predicted_class_name)\n",
    "\n",
    "# End timer\n",
    "end_pred_one_time = datetime.now()\n",
    "pred_one_time = (end_pred_one_time - start_pred_one_time).total_seconds()"
   ]
  },
  {
   "cell_type": "code",
   "execution_count": 43,
   "metadata": {},
   "outputs": [],
   "source": [
    "# Run log model metrics function\n",
    "log_model_metrics(\"metrics.txt\", \"results.csv\", \"Original-CNN-Kaggle\", train_time, eval_time, pred_one_time)"
   ]
  },
  {
   "cell_type": "markdown",
   "metadata": {},
   "source": [
    "## Examine Data 📊"
   ]
  },
  {
   "cell_type": "code",
   "execution_count": 44,
   "metadata": {},
   "outputs": [
    {
     "data": {
      "text/html": [
       "<div>\n",
       "<style scoped>\n",
       "    .dataframe tbody tr th:only-of-type {\n",
       "        vertical-align: middle;\n",
       "    }\n",
       "\n",
       "    .dataframe tbody tr th {\n",
       "        vertical-align: top;\n",
       "    }\n",
       "\n",
       "    .dataframe thead th {\n",
       "        text-align: right;\n",
       "    }\n",
       "</style>\n",
       "<table border=\"1\" class=\"dataframe\">\n",
       "  <thead>\n",
       "    <tr style=\"text-align: right;\">\n",
       "      <th></th>\n",
       "      <th>name</th>\n",
       "      <th>model</th>\n",
       "      <th>train_time</th>\n",
       "      <th>eval_time</th>\n",
       "      <th>pred_one_time</th>\n",
       "      <th>accuracy</th>\n",
       "      <th>precision</th>\n",
       "      <th>recall</th>\n",
       "      <th>f1</th>\n",
       "    </tr>\n",
       "  </thead>\n",
       "  <tbody>\n",
       "    <tr>\n",
       "      <th>0</th>\n",
       "      <td>hrcprasad</td>\n",
       "      <td>Original-CNN-Kaggle</td>\n",
       "      <td>1188.253423</td>\n",
       "      <td>3.220456</td>\n",
       "      <td>0.085360</td>\n",
       "      <td>0.959531</td>\n",
       "      <td>0.959956</td>\n",
       "      <td>0.959531</td>\n",
       "      <td>0.959490</td>\n",
       "    </tr>\n",
       "    <tr>\n",
       "      <th>1</th>\n",
       "      <td>hrcprasad</td>\n",
       "      <td>Original-CNN-Kaggle</td>\n",
       "      <td>869.710765</td>\n",
       "      <td>13.200192</td>\n",
       "      <td>0.112922</td>\n",
       "      <td>0.939297</td>\n",
       "      <td>0.939181</td>\n",
       "      <td>0.939297</td>\n",
       "      <td>0.939092</td>\n",
       "    </tr>\n",
       "  </tbody>\n",
       "</table>\n",
       "</div>"
      ],
      "text/plain": [
       "        name                model   train_time  eval_time  pred_one_time  \\\n",
       "0  hrcprasad  Original-CNN-Kaggle  1188.253423   3.220456       0.085360   \n",
       "1  hrcprasad  Original-CNN-Kaggle   869.710765  13.200192       0.112922   \n",
       "\n",
       "   accuracy  precision    recall        f1  \n",
       "0  0.959531   0.959956  0.959531  0.959490  \n",
       "1  0.939297   0.939181  0.939297  0.939092  "
      ]
     },
     "execution_count": 44,
     "metadata": {},
     "output_type": "execute_result"
    }
   ],
   "source": [
    "# Read the results csv\n",
    "res = pd.read_csv('/home/hrcprasad/code/hrcprasad/x_ray_lewagon2024/notebooks/results.csv')\n",
    "\n",
    "res"
   ]
  },
  {
   "cell_type": "markdown",
   "metadata": {},
   "source": [
    "## Shapley  🚀\n"
   ]
  },
  {
   "cell_type": "code",
   "execution_count": 46,
   "metadata": {},
   "outputs": [
    {
     "name": "stdout",
     "output_type": "stream",
     "text": [
      "cv2 could not be imported!\n"
     ]
    },
    {
     "ename": "ModuleNotFoundError",
     "evalue": "No module named 'cv2'",
     "output_type": "error",
     "traceback": [
      "\u001b[0;31m---------------------------------------------------------------------------\u001b[0m",
      "\u001b[0;31mModuleNotFoundError\u001b[0m                       Traceback (most recent call last)",
      "Cell \u001b[0;32mIn [46], line 3\u001b[0m\n\u001b[1;32m      1\u001b[0m \u001b[38;5;66;03m# %%\u001b[39;00m\n\u001b[1;32m      2\u001b[0m \u001b[38;5;66;03m# Masker that will mask out partitions of the input image with smaller blur\u001b[39;00m\n\u001b[0;32m----> 3\u001b[0m masker \u001b[38;5;241m=\u001b[39m \u001b[43mshap\u001b[49m\u001b[38;5;241;43m.\u001b[39;49m\u001b[43mmaskers\u001b[49m\u001b[38;5;241;43m.\u001b[39;49m\u001b[43mImage\u001b[49m\u001b[43m(\u001b[49m\u001b[38;5;124;43m\"\u001b[39;49m\u001b[38;5;124;43mblur(16, 16)\u001b[39;49m\u001b[38;5;124;43m\"\u001b[39;49m\u001b[43m,\u001b[49m\u001b[43m \u001b[49m\u001b[43mimg_array\u001b[49m\u001b[43m[\u001b[49m\u001b[38;5;241;43m0\u001b[39;49m\u001b[43m]\u001b[49m\u001b[38;5;241;43m.\u001b[39;49m\u001b[43mshape\u001b[49m\u001b[43m)\u001b[49m\n\u001b[1;32m      5\u001b[0m \u001b[38;5;66;03m# Create the explainer\u001b[39;00m\n\u001b[1;32m      6\u001b[0m explainer \u001b[38;5;241m=\u001b[39m shap\u001b[38;5;241m.\u001b[39mExplainer(model, masker, output_names\u001b[38;5;241m=\u001b[39m\u001b[38;5;28mlist\u001b[39m(class_names_dict\u001b[38;5;241m.\u001b[39mvalues()))\n",
      "File \u001b[0;32m~/.pyenv/versions/3.10.6/envs/lewagon/lib/python3.10/site-packages/shap/maskers/_image.py:53\u001b[0m, in \u001b[0;36mImage.__init__\u001b[0;34m(self, mask_value, shape)\u001b[0m\n\u001b[1;32m     51\u001b[0m     \u001b[38;5;28mself\u001b[39m\u001b[38;5;241m.\u001b[39mmask_value \u001b[38;5;241m=\u001b[39m mask_value\u001b[38;5;241m.\u001b[39mflatten()\n\u001b[1;32m     52\u001b[0m \u001b[38;5;28;01melif\u001b[39;00m \u001b[38;5;28misinstance\u001b[39m(mask_value, \u001b[38;5;28mstr\u001b[39m):\n\u001b[0;32m---> 53\u001b[0m     \u001b[43massert_import\u001b[49m\u001b[43m(\u001b[49m\u001b[38;5;124;43m\"\u001b[39;49m\u001b[38;5;124;43mcv2\u001b[39;49m\u001b[38;5;124;43m\"\u001b[39;49m\u001b[43m)\u001b[49m\n\u001b[1;32m     54\u001b[0m     \u001b[38;5;28mself\u001b[39m\u001b[38;5;241m.\u001b[39mmask_value \u001b[38;5;241m=\u001b[39m mask_value\n\u001b[1;32m     55\u001b[0m     \u001b[38;5;28;01mif\u001b[39;00m mask_value\u001b[38;5;241m.\u001b[39mstartswith(\u001b[38;5;124m\"\u001b[39m\u001b[38;5;124mblur(\u001b[39m\u001b[38;5;124m\"\u001b[39m):\n",
      "File \u001b[0;32m~/.pyenv/versions/3.10.6/envs/lewagon/lib/python3.10/site-packages/shap/utils/_general.py:19\u001b[0m, in \u001b[0;36massert_import\u001b[0;34m(package_name)\u001b[0m\n\u001b[1;32m     17\u001b[0m msg,e \u001b[38;5;241m=\u001b[39m import_errors[package_name]\n\u001b[1;32m     18\u001b[0m \u001b[38;5;28mprint\u001b[39m(msg)\n\u001b[0;32m---> 19\u001b[0m \u001b[38;5;28;01mraise\u001b[39;00m e\n",
      "    \u001b[0;31m[... skipping hidden 1 frame]\u001b[0m\n",
      "Cell \u001b[0;32mIn [45], line 2\u001b[0m\n\u001b[1;32m      1\u001b[0m \u001b[38;5;66;03m# Masker that will mask out partitions of the input image with smaller blur\u001b[39;00m\n\u001b[0;32m----> 2\u001b[0m masker \u001b[38;5;241m=\u001b[39m \u001b[43mshap\u001b[49m\u001b[38;5;241;43m.\u001b[39;49m\u001b[43mmaskers\u001b[49m\u001b[38;5;241;43m.\u001b[39;49m\u001b[43mImage\u001b[49m\u001b[43m(\u001b[49m\u001b[38;5;124;43m\"\u001b[39;49m\u001b[38;5;124;43mblur(16, 16)\u001b[39;49m\u001b[38;5;124;43m\"\u001b[39;49m\u001b[43m,\u001b[49m\u001b[43m \u001b[49m\u001b[43mimg_array\u001b[49m\u001b[43m[\u001b[49m\u001b[38;5;241;43m0\u001b[39;49m\u001b[43m]\u001b[49m\u001b[38;5;241;43m.\u001b[39;49m\u001b[43mshape\u001b[49m\u001b[43m)\u001b[49m\n\u001b[1;32m      4\u001b[0m \u001b[38;5;66;03m# Create the explainer\u001b[39;00m\n\u001b[1;32m      5\u001b[0m explainer \u001b[38;5;241m=\u001b[39m shap\u001b[38;5;241m.\u001b[39mExplainer(model, masker, output_names\u001b[38;5;241m=\u001b[39m\u001b[38;5;28mlist\u001b[39m(class_names_dict\u001b[38;5;241m.\u001b[39mvalues()))\n",
      "File \u001b[0;32m~/.pyenv/versions/3.10.6/envs/lewagon/lib/python3.10/site-packages/shap/maskers/_image.py:53\u001b[0m, in \u001b[0;36mImage.__init__\u001b[0;34m(self, mask_value, shape)\u001b[0m\n\u001b[1;32m     51\u001b[0m     \u001b[38;5;28mself\u001b[39m\u001b[38;5;241m.\u001b[39mmask_value \u001b[38;5;241m=\u001b[39m mask_value\u001b[38;5;241m.\u001b[39mflatten()\n\u001b[1;32m     52\u001b[0m \u001b[38;5;28;01melif\u001b[39;00m \u001b[38;5;28misinstance\u001b[39m(mask_value, \u001b[38;5;28mstr\u001b[39m):\n\u001b[0;32m---> 53\u001b[0m     \u001b[43massert_import\u001b[49m\u001b[43m(\u001b[49m\u001b[38;5;124;43m\"\u001b[39;49m\u001b[38;5;124;43mcv2\u001b[39;49m\u001b[38;5;124;43m\"\u001b[39;49m\u001b[43m)\u001b[49m\n\u001b[1;32m     54\u001b[0m     \u001b[38;5;28mself\u001b[39m\u001b[38;5;241m.\u001b[39mmask_value \u001b[38;5;241m=\u001b[39m mask_value\n\u001b[1;32m     55\u001b[0m     \u001b[38;5;28;01mif\u001b[39;00m mask_value\u001b[38;5;241m.\u001b[39mstartswith(\u001b[38;5;124m\"\u001b[39m\u001b[38;5;124mblur(\u001b[39m\u001b[38;5;124m\"\u001b[39m):\n",
      "File \u001b[0;32m~/.pyenv/versions/3.10.6/envs/lewagon/lib/python3.10/site-packages/shap/utils/_general.py:19\u001b[0m, in \u001b[0;36massert_import\u001b[0;34m(package_name)\u001b[0m\n\u001b[1;32m     17\u001b[0m msg,e \u001b[38;5;241m=\u001b[39m import_errors[package_name]\n\u001b[1;32m     18\u001b[0m \u001b[38;5;28mprint\u001b[39m(msg)\n\u001b[0;32m---> 19\u001b[0m \u001b[38;5;28;01mraise\u001b[39;00m e\n",
      "    \u001b[0;31m[... skipping hidden 1 frame]\u001b[0m\n",
      "Cell \u001b[0;32mIn [46], line 3\u001b[0m\n\u001b[1;32m      1\u001b[0m \u001b[38;5;66;03m# %%\u001b[39;00m\n\u001b[1;32m      2\u001b[0m \u001b[38;5;66;03m# Masker that will mask out partitions of the input image with smaller blur\u001b[39;00m\n\u001b[0;32m----> 3\u001b[0m masker \u001b[38;5;241m=\u001b[39m \u001b[43mshap\u001b[49m\u001b[38;5;241;43m.\u001b[39;49m\u001b[43mmaskers\u001b[49m\u001b[38;5;241;43m.\u001b[39;49m\u001b[43mImage\u001b[49m\u001b[43m(\u001b[49m\u001b[38;5;124;43m\"\u001b[39;49m\u001b[38;5;124;43mblur(16, 16)\u001b[39;49m\u001b[38;5;124;43m\"\u001b[39;49m\u001b[43m,\u001b[49m\u001b[43m \u001b[49m\u001b[43mimg_array\u001b[49m\u001b[43m[\u001b[49m\u001b[38;5;241;43m0\u001b[39;49m\u001b[43m]\u001b[49m\u001b[38;5;241;43m.\u001b[39;49m\u001b[43mshape\u001b[49m\u001b[43m)\u001b[49m\n\u001b[1;32m      5\u001b[0m \u001b[38;5;66;03m# Create the explainer\u001b[39;00m\n\u001b[1;32m      6\u001b[0m explainer \u001b[38;5;241m=\u001b[39m shap\u001b[38;5;241m.\u001b[39mExplainer(model, masker, output_names\u001b[38;5;241m=\u001b[39m\u001b[38;5;28mlist\u001b[39m(class_names_dict\u001b[38;5;241m.\u001b[39mvalues()))\n",
      "File \u001b[0;32m~/.pyenv/versions/3.10.6/envs/lewagon/lib/python3.10/site-packages/shap/maskers/_image.py:53\u001b[0m, in \u001b[0;36mImage.__init__\u001b[0;34m(self, mask_value, shape)\u001b[0m\n\u001b[1;32m     51\u001b[0m     \u001b[38;5;28mself\u001b[39m\u001b[38;5;241m.\u001b[39mmask_value \u001b[38;5;241m=\u001b[39m mask_value\u001b[38;5;241m.\u001b[39mflatten()\n\u001b[1;32m     52\u001b[0m \u001b[38;5;28;01melif\u001b[39;00m \u001b[38;5;28misinstance\u001b[39m(mask_value, \u001b[38;5;28mstr\u001b[39m):\n\u001b[0;32m---> 53\u001b[0m     \u001b[43massert_import\u001b[49m\u001b[43m(\u001b[49m\u001b[38;5;124;43m\"\u001b[39;49m\u001b[38;5;124;43mcv2\u001b[39;49m\u001b[38;5;124;43m\"\u001b[39;49m\u001b[43m)\u001b[49m\n\u001b[1;32m     54\u001b[0m     \u001b[38;5;28mself\u001b[39m\u001b[38;5;241m.\u001b[39mmask_value \u001b[38;5;241m=\u001b[39m mask_value\n\u001b[1;32m     55\u001b[0m     \u001b[38;5;28;01mif\u001b[39;00m mask_value\u001b[38;5;241m.\u001b[39mstartswith(\u001b[38;5;124m\"\u001b[39m\u001b[38;5;124mblur(\u001b[39m\u001b[38;5;124m\"\u001b[39m):\n",
      "File \u001b[0;32m~/.pyenv/versions/3.10.6/envs/lewagon/lib/python3.10/site-packages/shap/utils/_general.py:19\u001b[0m, in \u001b[0;36massert_import\u001b[0;34m(package_name)\u001b[0m\n\u001b[1;32m     17\u001b[0m msg,e \u001b[38;5;241m=\u001b[39m import_errors[package_name]\n\u001b[1;32m     18\u001b[0m \u001b[38;5;28mprint\u001b[39m(msg)\n\u001b[0;32m---> 19\u001b[0m \u001b[38;5;28;01mraise\u001b[39;00m e\n",
      "    \u001b[0;31m[... skipping hidden 1 frame]\u001b[0m\n",
      "Cell \u001b[0;32mIn [45], line 2\u001b[0m\n\u001b[1;32m      1\u001b[0m \u001b[38;5;66;03m# Masker that will mask out partitions of the input image with smaller blur\u001b[39;00m\n\u001b[0;32m----> 2\u001b[0m masker \u001b[38;5;241m=\u001b[39m \u001b[43mshap\u001b[49m\u001b[38;5;241;43m.\u001b[39;49m\u001b[43mmaskers\u001b[49m\u001b[38;5;241;43m.\u001b[39;49m\u001b[43mImage\u001b[49m\u001b[43m(\u001b[49m\u001b[38;5;124;43m\"\u001b[39;49m\u001b[38;5;124;43mblur(16, 16)\u001b[39;49m\u001b[38;5;124;43m\"\u001b[39;49m\u001b[43m,\u001b[49m\u001b[43m \u001b[49m\u001b[43mimg_array\u001b[49m\u001b[43m[\u001b[49m\u001b[38;5;241;43m0\u001b[39;49m\u001b[43m]\u001b[49m\u001b[38;5;241;43m.\u001b[39;49m\u001b[43mshape\u001b[49m\u001b[43m)\u001b[49m\n\u001b[1;32m      4\u001b[0m \u001b[38;5;66;03m# Create the explainer\u001b[39;00m\n\u001b[1;32m      5\u001b[0m explainer \u001b[38;5;241m=\u001b[39m shap\u001b[38;5;241m.\u001b[39mExplainer(model, masker, output_names\u001b[38;5;241m=\u001b[39m\u001b[38;5;28mlist\u001b[39m(class_names_dict\u001b[38;5;241m.\u001b[39mvalues()))\n",
      "File \u001b[0;32m~/.pyenv/versions/3.10.6/envs/lewagon/lib/python3.10/site-packages/shap/maskers/_image.py:53\u001b[0m, in \u001b[0;36mImage.__init__\u001b[0;34m(self, mask_value, shape)\u001b[0m\n\u001b[1;32m     51\u001b[0m     \u001b[38;5;28mself\u001b[39m\u001b[38;5;241m.\u001b[39mmask_value \u001b[38;5;241m=\u001b[39m mask_value\u001b[38;5;241m.\u001b[39mflatten()\n\u001b[1;32m     52\u001b[0m \u001b[38;5;28;01melif\u001b[39;00m \u001b[38;5;28misinstance\u001b[39m(mask_value, \u001b[38;5;28mstr\u001b[39m):\n\u001b[0;32m---> 53\u001b[0m     \u001b[43massert_import\u001b[49m\u001b[43m(\u001b[49m\u001b[38;5;124;43m\"\u001b[39;49m\u001b[38;5;124;43mcv2\u001b[39;49m\u001b[38;5;124;43m\"\u001b[39;49m\u001b[43m)\u001b[49m\n\u001b[1;32m     54\u001b[0m     \u001b[38;5;28mself\u001b[39m\u001b[38;5;241m.\u001b[39mmask_value \u001b[38;5;241m=\u001b[39m mask_value\n\u001b[1;32m     55\u001b[0m     \u001b[38;5;28;01mif\u001b[39;00m mask_value\u001b[38;5;241m.\u001b[39mstartswith(\u001b[38;5;124m\"\u001b[39m\u001b[38;5;124mblur(\u001b[39m\u001b[38;5;124m\"\u001b[39m):\n",
      "File \u001b[0;32m~/.pyenv/versions/3.10.6/envs/lewagon/lib/python3.10/site-packages/shap/utils/_general.py:19\u001b[0m, in \u001b[0;36massert_import\u001b[0;34m(package_name)\u001b[0m\n\u001b[1;32m     17\u001b[0m msg,e \u001b[38;5;241m=\u001b[39m import_errors[package_name]\n\u001b[1;32m     18\u001b[0m \u001b[38;5;28mprint\u001b[39m(msg)\n\u001b[0;32m---> 19\u001b[0m \u001b[38;5;28;01mraise\u001b[39;00m e\n",
      "File \u001b[0;32m~/.pyenv/versions/3.10.6/envs/lewagon/lib/python3.10/site-packages/shap/maskers/_image.py:14\u001b[0m\n\u001b[1;32m     11\u001b[0m \u001b[38;5;28;01mfrom\u001b[39;00m \u001b[38;5;21;01m.\u001b[39;00m\u001b[38;5;21;01m_masker\u001b[39;00m \u001b[38;5;28;01mimport\u001b[39;00m Masker\n\u001b[1;32m     13\u001b[0m \u001b[38;5;28;01mtry\u001b[39;00m:\n\u001b[0;32m---> 14\u001b[0m     \u001b[38;5;28;01mimport\u001b[39;00m \u001b[38;5;21;01mcv2\u001b[39;00m\n\u001b[1;32m     15\u001b[0m \u001b[38;5;28;01mexcept\u001b[39;00m \u001b[38;5;167;01mImportError\u001b[39;00m \u001b[38;5;28;01mas\u001b[39;00m e:\n\u001b[1;32m     16\u001b[0m     record_import_error(\u001b[38;5;124m\"\u001b[39m\u001b[38;5;124mcv2\u001b[39m\u001b[38;5;124m\"\u001b[39m, \u001b[38;5;124m\"\u001b[39m\u001b[38;5;124mcv2 could not be imported!\u001b[39m\u001b[38;5;124m\"\u001b[39m, e)\n",
      "\u001b[0;31mModuleNotFoundError\u001b[0m: No module named 'cv2'"
     ]
    }
   ],
   "source": [
    "# %%\n",
    "# Masker that will mask out partitions of the input image with smaller blur\n",
    "masker = shap.maskers.Image(\"blur(16, 16)\", img_array[0].shape)\n",
    "\n",
    "# Create the explainer\n",
    "explainer = shap.Explainer(model, masker, output_names=list(class_names_dict.values()))\n",
    "\n",
    "# Explain the single image to estimate SHAP values\n",
    "shap_values = explainer(img_array, max_evals=8000, batch_size=50, outputs=shap.Explanation.argsort.flip[:4])  # Increased max_evals\n",
    "\n",
    "# Show the plot\n",
    "shap.image_plot(shap_values, pixel_values=img_array)\n"
   ]
  }
 ],
 "metadata": {
  "kernelspec": {
   "display_name": "Python 3",
   "language": "python",
   "name": "python3"
  },
  "language_info": {
   "codemirror_mode": {
    "name": "ipython",
    "version": 3
   },
   "file_extension": ".py",
   "mimetype": "text/x-python",
   "name": "python",
   "nbconvert_exporter": "python",
   "pygments_lexer": "ipython3",
   "version": "3.10.6"
  }
 },
 "nbformat": 4,
 "nbformat_minor": 2
}
