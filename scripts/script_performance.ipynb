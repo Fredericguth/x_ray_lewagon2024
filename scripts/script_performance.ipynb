{
 "cells": [
  {
   "cell_type": "code",
   "execution_count": 2,
   "metadata": {},
   "outputs": [
    {
     "name": "stderr",
     "output_type": "stream",
     "text": [
      "2024-06-04 09:40:20.135385: I tensorflow/core/platform/cpu_feature_guard.cc:193] This TensorFlow binary is optimized with oneAPI Deep Neural Network Library (oneDNN) to use the following CPU instructions in performance-critical operations:  AVX2 AVX512F AVX512_VNNI FMA\n",
      "To enable them in other operations, rebuild TensorFlow with the appropriate compiler flags.\n",
      "2024-06-04 09:40:20.629682: I tensorflow/core/util/util.cc:169] oneDNN custom operations are on. You may see slightly different numerical results due to floating-point round-off errors from different computation orders. To turn them off, set the environment variable `TF_ENABLE_ONEDNN_OPTS=0`.\n",
      "2024-06-04 09:40:20.657370: W tensorflow/stream_executor/platform/default/dso_loader.cc:64] Could not load dynamic library 'libcudart.so.11.0'; dlerror: libcudart.so.11.0: cannot open shared object file: No such file or directory\n",
      "2024-06-04 09:40:20.657444: I tensorflow/stream_executor/cuda/cudart_stub.cc:29] Ignore above cudart dlerror if you do not have a GPU set up on your machine.\n",
      "2024-06-04 09:40:20.701007: E tensorflow/stream_executor/cuda/cuda_blas.cc:2981] Unable to register cuBLAS factory: Attempting to register factory for plugin cuBLAS when one has already been registered\n",
      "2024-06-04 09:40:21.571338: W tensorflow/stream_executor/platform/default/dso_loader.cc:64] Could not load dynamic library 'libnvinfer.so.7'; dlerror: libnvinfer.so.7: cannot open shared object file: No such file or directory\n",
      "2024-06-04 09:40:21.571509: W tensorflow/stream_executor/platform/default/dso_loader.cc:64] Could not load dynamic library 'libnvinfer_plugin.so.7'; dlerror: libnvinfer_plugin.so.7: cannot open shared object file: No such file or directory\n",
      "2024-06-04 09:40:21.571518: W tensorflow/compiler/tf2tensorrt/utils/py_utils.cc:38] TF-TRT Warning: Cannot dlopen some TensorRT libraries. If you would like to use Nvidia GPU with TensorRT, please make sure the missing libraries mentioned above are installed properly.\n"
     ]
    },
    {
     "name": "stdout",
     "output_type": "stream",
     "text": [
      "Found 1129 files belonging to 10 classes.\n",
      "Using 1017 files for training.\n"
     ]
    },
    {
     "name": "stderr",
     "output_type": "stream",
     "text": [
      "2024-06-04 09:40:22.975637: W tensorflow/stream_executor/platform/default/dso_loader.cc:64] Could not load dynamic library 'libcuda.so.1'; dlerror: libcuda.so.1: cannot open shared object file: No such file or directory\n",
      "2024-06-04 09:40:22.975756: W tensorflow/stream_executor/cuda/cuda_driver.cc:263] failed call to cuInit: UNKNOWN ERROR (303)\n",
      "2024-06-04 09:40:22.975796: I tensorflow/stream_executor/cuda/cuda_diagnostics.cc:156] kernel driver does not appear to be running on this host (Chai-ThinkPad): /proc/driver/nvidia/version does not exist\n",
      "2024-06-04 09:40:22.977739: I tensorflow/core/platform/cpu_feature_guard.cc:193] This TensorFlow binary is optimized with oneAPI Deep Neural Network Library (oneDNN) to use the following CPU instructions in performance-critical operations:  AVX2 AVX512F AVX512_VNNI FMA\n",
      "To enable them in other operations, rebuild TensorFlow with the appropriate compiler flags.\n"
     ]
    },
    {
     "name": "stdout",
     "output_type": "stream",
     "text": [
      "Found 1129 files belonging to 10 classes.\n",
      "Using 112 files for validation.\n",
      "Class names: ['Avulsion fracture', 'Comminuted fracture', 'Fracture Dislocation', 'Greenstick fracture', 'Hairline Fracture', 'Impacted fracture', 'Longitudinal fracture', 'Oblique fracture', 'Pathological fracture', 'Spiral Fracture']\n",
      "Figure(1500x500)\n",
      "Model: \"model\"\n",
      "_________________________________________________________________\n",
      " Layer (type)                Output Shape              Param #   \n",
      "=================================================================\n",
      " input_layer (InputLayer)    [(None, 256, 256, 3)]     0         \n",
      "                                                                 \n",
      " flatten (Flatten)           (None, 196608)            0         \n",
      "                                                                 \n",
      " dense (Dense)               (None, 300)               58982700  \n",
      "                                                                 \n",
      " leaky_re_lu (LeakyReLU)     (None, 300)               0         \n",
      "                                                                 \n",
      " dense_1 (Dense)             (None, 250)               75250     \n",
      "                                                                 \n",
      " batch_normalization (BatchN  (None, 250)              1000      \n",
      " ormalization)                                                   \n",
      "                                                                 \n",
      " leaky_re_lu_1 (LeakyReLU)   (None, 250)               0         \n",
      "                                                                 \n",
      " dense_2 (Dense)             (None, 200)               50200     \n",
      "                                                                 \n",
      " batch_normalization_1 (Batc  (None, 200)              800       \n",
      " hNormalization)                                                 \n",
      "                                                                 \n",
      " leaky_re_lu_2 (LeakyReLU)   (None, 200)               0         \n",
      "                                                                 \n",
      " dense_3 (Dense)             (None, 150)               30150     \n",
      "                                                                 \n",
      " batch_normalization_2 (Batc  (None, 150)              600       \n",
      " hNormalization)                                                 \n",
      "                                                                 \n",
      " leaky_re_lu_3 (LeakyReLU)   (None, 150)               0         \n",
      "                                                                 \n",
      " dense_4 (Dense)             (None, 100)               15100     \n",
      "                                                                 \n",
      " batch_normalization_3 (Batc  (None, 100)              400       \n",
      " hNormalization)                                                 \n",
      "                                                                 \n",
      " leaky_re_lu_4 (LeakyReLU)   (None, 100)               0         \n",
      "                                                                 \n",
      " dense_5 (Dense)             (None, 10)                1010      \n",
      "                                                                 \n",
      "=================================================================\n",
      "Total params: 59,157,210\n",
      "Trainable params: 59,155,810\n",
      "Non-trainable params: 1,400\n",
      "_________________________________________________________________\n",
      "Epoch 1/16\n",
      "32/32 [==============================] - 4s 84ms/step - loss: 2.4756 - accuracy: 0.1780\n",
      "Epoch 2/16\n",
      "32/32 [==============================] - 3s 85ms/step - loss: 2.1353 - accuracy: 0.2380\n",
      "Epoch 3/16\n",
      "32/32 [==============================] - 3s 89ms/step - loss: 2.0071 - accuracy: 0.3019\n",
      "Epoch 4/16\n",
      "32/32 [==============================] - 3s 88ms/step - loss: 1.9031 - accuracy: 0.3353\n",
      "Epoch 5/16\n",
      "32/32 [==============================] - 3s 87ms/step - loss: 1.7835 - accuracy: 0.3845\n",
      "Epoch 6/16\n",
      "32/32 [==============================] - 3s 86ms/step - loss: 1.7012 - accuracy: 0.4061\n",
      "Epoch 7/16\n",
      "32/32 [==============================] - 3s 87ms/step - loss: 1.6476 - accuracy: 0.4346\n",
      "Epoch 8/16\n",
      "32/32 [==============================] - 3s 90ms/step - loss: 1.5146 - accuracy: 0.4916\n",
      "Epoch 9/16\n",
      "32/32 [==============================] - 3s 90ms/step - loss: 1.4094 - accuracy: 0.5349\n",
      "Epoch 10/16\n",
      "32/32 [==============================] - 3s 89ms/step - loss: 1.3738 - accuracy: 0.5418\n",
      "Epoch 11/16\n",
      "32/32 [==============================] - 3s 89ms/step - loss: 1.2192 - accuracy: 0.6116\n",
      "Epoch 12/16\n",
      "32/32 [==============================] - 3s 86ms/step - loss: 1.1525 - accuracy: 0.6382\n",
      "Epoch 13/16\n",
      "32/32 [==============================] - 3s 88ms/step - loss: 1.0812 - accuracy: 0.6568\n",
      "Epoch 14/16\n",
      "32/32 [==============================] - 3s 87ms/step - loss: 0.9663 - accuracy: 0.7099\n",
      "Epoch 15/16\n",
      "32/32 [==============================] - 3s 88ms/step - loss: 0.9745 - accuracy: 0.6952\n",
      "Epoch 16/16\n",
      "32/32 [==============================] - 3s 87ms/step - loss: 0.8578 - accuracy: 0.7335\n",
      "4/4 [==============================] - 0s 21ms/step - loss: 1.2976 - accuracy: 0.5446\n",
      "4/4 [==============================] - 0s 20ms/step\n",
      "Model: \"model_1\"\n",
      "_________________________________________________________________\n",
      " Layer (type)                Output Shape              Param #   \n",
      "=================================================================\n",
      " input_1 (InputLayer)        [(None, 256, 256, 3)]     0         \n",
      "                                                                 \n",
      " conv2d (Conv2D)             (None, 128, 128, 32)      896       \n",
      "                                                                 \n",
      " batch_normalization_4 (Batc  (None, 128, 128, 32)     128       \n",
      " hNormalization)                                                 \n",
      "                                                                 \n",
      " leaky_re_lu_5 (LeakyReLU)   (None, 128, 128, 32)      0         \n",
      "                                                                 \n",
      " dropout (Dropout)           (None, 128, 128, 32)      0         \n",
      "                                                                 \n",
      " conv2d_1 (Conv2D)           (None, 64, 64, 64)        18496     \n",
      "                                                                 \n",
      " batch_normalization_5 (Batc  (None, 64, 64, 64)       256       \n",
      " hNormalization)                                                 \n",
      "                                                                 \n",
      " leaky_re_lu_6 (LeakyReLU)   (None, 64, 64, 64)        0         \n",
      "                                                                 \n",
      " dropout_1 (Dropout)         (None, 64, 64, 64)        0         \n",
      "                                                                 \n",
      " conv2d_2 (Conv2D)           (None, 32, 32, 128)       73856     \n",
      "                                                                 \n",
      " batch_normalization_6 (Batc  (None, 32, 32, 128)      512       \n",
      " hNormalization)                                                 \n",
      "                                                                 \n",
      " leaky_re_lu_7 (LeakyReLU)   (None, 32, 32, 128)       0         \n",
      "                                                                 \n",
      " dropout_2 (Dropout)         (None, 32, 32, 128)       0         \n",
      "                                                                 \n",
      " conv2d_3 (Conv2D)           (None, 16, 16, 256)       295168    \n",
      "                                                                 \n",
      " batch_normalization_7 (Batc  (None, 16, 16, 256)      1024      \n",
      " hNormalization)                                                 \n",
      "                                                                 \n",
      " leaky_re_lu_8 (LeakyReLU)   (None, 16, 16, 256)       0         \n",
      "                                                                 \n",
      " dropout_3 (Dropout)         (None, 16, 16, 256)       0         \n",
      "                                                                 \n",
      " flatten_1 (Flatten)         (None, 65536)             0         \n",
      "                                                                 \n",
      " dense_6 (Dense)             (None, 100)               6553700   \n",
      "                                                                 \n",
      " batch_normalization_8 (Batc  (None, 100)              400       \n",
      " hNormalization)                                                 \n",
      "                                                                 \n",
      " leaky_re_lu_9 (LeakyReLU)   (None, 100)               0         \n",
      "                                                                 \n",
      " dropout_4 (Dropout)         (None, 100)               0         \n",
      "                                                                 \n",
      " dense_7 (Dense)             (None, 10)                1010      \n",
      "                                                                 \n",
      "=================================================================\n",
      "Total params: 6,945,446\n",
      "Trainable params: 6,944,286\n",
      "Non-trainable params: 1,160\n",
      "_________________________________________________________________\n",
      "Epoch 1/10\n",
      "32/32 [==============================] - ETA: 0s - loss: 2.5908 - accuracy: 0.1622"
     ]
    },
    {
     "name": "stderr",
     "output_type": "stream",
     "text": [
      "WARNING:absl:Found untraced functions such as _jit_compiled_convolution_op, _jit_compiled_convolution_op, _jit_compiled_convolution_op, _jit_compiled_convolution_op while saving (showing 4 of 4). These functions will not be directly callable after loading.\n"
     ]
    },
    {
     "name": "stdout",
     "output_type": "stream",
     "text": [
      "32/32 [==============================] - 15s 444ms/step - loss: 2.5908 - accuracy: 0.1622 - val_loss: 2.1977 - val_accuracy: 0.3125\n",
      "Epoch 2/10\n",
      "32/32 [==============================] - ETA: 0s - loss: 1.9857 - accuracy: 0.3166"
     ]
    },
    {
     "name": "stderr",
     "output_type": "stream",
     "text": [
      "WARNING:absl:Found untraced functions such as _jit_compiled_convolution_op, _jit_compiled_convolution_op, _jit_compiled_convolution_op, _jit_compiled_convolution_op while saving (showing 4 of 4). These functions will not be directly callable after loading.\n"
     ]
    },
    {
     "name": "stdout",
     "output_type": "stream",
     "text": [
      "32/32 [==============================] - 12s 392ms/step - loss: 1.9857 - accuracy: 0.3166 - val_loss: 1.8287 - val_accuracy: 0.3929\n",
      "Epoch 3/10\n",
      "32/32 [==============================] - ETA: 0s - loss: 1.5818 - accuracy: 0.4700"
     ]
    },
    {
     "name": "stderr",
     "output_type": "stream",
     "text": [
      "WARNING:absl:Found untraced functions such as _jit_compiled_convolution_op, _jit_compiled_convolution_op, _jit_compiled_convolution_op, _jit_compiled_convolution_op while saving (showing 4 of 4). These functions will not be directly callable after loading.\n"
     ]
    },
    {
     "name": "stdout",
     "output_type": "stream",
     "text": [
      "32/32 [==============================] - 13s 402ms/step - loss: 1.5818 - accuracy: 0.4700 - val_loss: 1.1295 - val_accuracy: 0.6696\n",
      "Epoch 4/10\n",
      "32/32 [==============================] - ETA: 0s - loss: 1.1143 - accuracy: 0.6667"
     ]
    },
    {
     "name": "stderr",
     "output_type": "stream",
     "text": [
      "WARNING:absl:Found untraced functions such as _jit_compiled_convolution_op, _jit_compiled_convolution_op, _jit_compiled_convolution_op, _jit_compiled_convolution_op while saving (showing 4 of 4). These functions will not be directly callable after loading.\n"
     ]
    },
    {
     "name": "stdout",
     "output_type": "stream",
     "text": [
      "32/32 [==============================] - 12s 377ms/step - loss: 1.1143 - accuracy: 0.6667 - val_loss: 0.9605 - val_accuracy: 0.6964\n",
      "Epoch 5/10\n",
      "32/32 [==============================] - ETA: 0s - loss: 0.6654 - accuracy: 0.8279"
     ]
    },
    {
     "name": "stderr",
     "output_type": "stream",
     "text": [
      "WARNING:absl:Found untraced functions such as _jit_compiled_convolution_op, _jit_compiled_convolution_op, _jit_compiled_convolution_op, _jit_compiled_convolution_op while saving (showing 4 of 4). These functions will not be directly callable after loading.\n"
     ]
    },
    {
     "name": "stdout",
     "output_type": "stream",
     "text": [
      "32/32 [==============================] - 13s 400ms/step - loss: 0.6654 - accuracy: 0.8279 - val_loss: 0.4683 - val_accuracy: 0.9107\n",
      "Epoch 6/10\n",
      "32/32 [==============================] - ETA: 0s - loss: 0.4124 - accuracy: 0.9213"
     ]
    },
    {
     "name": "stderr",
     "output_type": "stream",
     "text": [
      "WARNING:absl:Found untraced functions such as _jit_compiled_convolution_op, _jit_compiled_convolution_op, _jit_compiled_convolution_op, _jit_compiled_convolution_op while saving (showing 4 of 4). These functions will not be directly callable after loading.\n"
     ]
    },
    {
     "name": "stdout",
     "output_type": "stream",
     "text": [
      "32/32 [==============================] - 13s 416ms/step - loss: 0.4124 - accuracy: 0.9213 - val_loss: 0.3959 - val_accuracy: 0.9464\n",
      "Epoch 7/10\n",
      "32/32 [==============================] - ETA: 0s - loss: 0.2467 - accuracy: 0.9656"
     ]
    },
    {
     "name": "stderr",
     "output_type": "stream",
     "text": [
      "WARNING:absl:Found untraced functions such as _jit_compiled_convolution_op, _jit_compiled_convolution_op, _jit_compiled_convolution_op, _jit_compiled_convolution_op while saving (showing 4 of 4). These functions will not be directly callable after loading.\n"
     ]
    },
    {
     "name": "stdout",
     "output_type": "stream",
     "text": [
      "32/32 [==============================] - 13s 394ms/step - loss: 0.2467 - accuracy: 0.9656 - val_loss: 0.2979 - val_accuracy: 0.9286\n",
      "Epoch 8/10\n",
      "32/32 [==============================] - ETA: 0s - loss: 0.1605 - accuracy: 0.9833"
     ]
    },
    {
     "name": "stderr",
     "output_type": "stream",
     "text": [
      "WARNING:absl:Found untraced functions such as _jit_compiled_convolution_op, _jit_compiled_convolution_op, _jit_compiled_convolution_op, _jit_compiled_convolution_op while saving (showing 4 of 4). These functions will not be directly callable after loading.\n"
     ]
    },
    {
     "name": "stdout",
     "output_type": "stream",
     "text": [
      "32/32 [==============================] - 13s 394ms/step - loss: 0.1605 - accuracy: 0.9833 - val_loss: 0.2489 - val_accuracy: 0.9464\n",
      "Epoch 9/10\n",
      "32/32 [==============================] - ETA: 0s - loss: 0.1267 - accuracy: 0.9882"
     ]
    },
    {
     "name": "stderr",
     "output_type": "stream",
     "text": [
      "WARNING:absl:Found untraced functions such as _jit_compiled_convolution_op, _jit_compiled_convolution_op, _jit_compiled_convolution_op, _jit_compiled_convolution_op while saving (showing 4 of 4). These functions will not be directly callable after loading.\n"
     ]
    },
    {
     "name": "stdout",
     "output_type": "stream",
     "text": [
      "32/32 [==============================] - 12s 393ms/step - loss: 0.1267 - accuracy: 0.9882 - val_loss: 0.2584 - val_accuracy: 0.9375\n",
      "Epoch 10/10\n",
      "32/32 [==============================] - ETA: 0s - loss: 0.1016 - accuracy: 0.9912"
     ]
    },
    {
     "name": "stderr",
     "output_type": "stream",
     "text": [
      "WARNING:absl:Found untraced functions such as _jit_compiled_convolution_op, _jit_compiled_convolution_op, _jit_compiled_convolution_op, _jit_compiled_convolution_op while saving (showing 4 of 4). These functions will not be directly callable after loading.\n"
     ]
    },
    {
     "name": "stdout",
     "output_type": "stream",
     "text": [
      "32/32 [==============================] - 24s 750ms/step - loss: 0.1016 - accuracy: 0.9912 - val_loss: 0.2169 - val_accuracy: 0.9464\n",
      "4/4 [==============================] - 0s 78ms/step - loss: 0.2169 - accuracy: 0.9464\n",
      "Figure(1500x300)\n",
      "Figure(1200x600)\n",
      "4/4 [==============================] - 0s 80ms/step\n",
      "Accuracy: 0.9464285714285714\n",
      "Precision: 0.960875496031746\n",
      "Recall: 0.9464285714285714\n",
      "F1 Score: 0.949380036828465\n"
     ]
    }
   ],
   "source": [
    "import subprocess\n",
    "import os\n",
    "import csv\n",
    "from datetime import datetime\n",
    "import time\n",
    "import getpass\n",
    "\n",
    "# Run the training and evaluation script and capture output\n",
    "start_train_time = time.time()\n",
    "subprocess.run([\"python3\", \"test_code_chai.py\"])\n",
    "end_train_time = time.time()\n",
    "train_time = end_train_time - start_train_time\n",
    "\n",
    "# For simplicity, we assume it's a constant small value here\n",
    "pred_one_time = 0.01\n",
    "\n",
    "# Load metrics generated by train_eval.py\n",
    "with open(\"metrics.txt\", \"r\") as file:\n",
    "    lines = file.readlines()\n",
    "    accuracy = float(lines[0].strip())\n",
    "    precision = float(lines[1].strip())\n",
    "    recall = float(lines[2].strip())\n",
    "    f1 = float(lines[3].strip())\n",
    "\n",
    "# Log results to CSV\n",
    "csv_file = \"results.csv\"\n",
    "fieldnames = [\"name\", \"model\", \"train_time\", \"test_time\", \"pred_one_time\", \"accuracy\", \"precision\", \"recall\", \"f1\"]\n",
    "name = getpass.getuser()  # Get the username of the person running the script\n",
    "model = \"CNN\"  # Assuming CNN is the model used; modify if needed\n",
    "\n",
    "if not os.path.exists(csv_file):\n",
    "    with open(csv_file, mode='w', newline='') as file:\n",
    "        writer = csv.DictWriter(file, fieldnames=fieldnames)\n",
    "        writer.writeheader()\n",
    "\n",
    "with open(csv_file, mode='a', newline='') as file:\n",
    "    writer = csv.DictWriter(file, fieldnames=fieldnames)\n",
    "    writer.writerow({\n",
    "        \"name\": name,\n",
    "        \"model\": model,\n",
    "        \"train_time\": train_time,\n",
    "        \"test_time\": test_time,\n",
    "        \"pred_one_time\": pred_one_time,\n",
    "        \"accuracy\": accuracy,\n",
    "        \"precision\": precision,\n",
    "        \"recall\": recall,\n",
    "        \"f1\": f1\n",
    "    })\n"
   ]
  },
  {
   "cell_type": "code",
   "execution_count": null,
   "metadata": {},
   "outputs": [],
   "source": []
  }
 ],
 "metadata": {
  "kernelspec": {
   "display_name": "Python 3",
   "language": "python",
   "name": "python3"
  },
  "language_info": {
   "codemirror_mode": {
    "name": "ipython",
    "version": 3
   },
   "file_extension": ".py",
   "mimetype": "text/x-python",
   "name": "python",
   "nbconvert_exporter": "python",
   "pygments_lexer": "ipython3",
   "version": "3.10.6"
  }
 },
 "nbformat": 4,
 "nbformat_minor": 2
}
